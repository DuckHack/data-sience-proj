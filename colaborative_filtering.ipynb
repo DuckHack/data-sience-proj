{
 "cells": [
  {
   "cell_type": "markdown",
   "metadata": {},
   "source": [
    "# Colaborative filtering"
   ]
  },
  {
   "cell_type": "markdown",
   "metadata": {},
   "source": [
    "Colaborative filtering is a type of recommender systems that makes recommendations (predictions) based only on collected ratings/preferences of many users. To quote Wikipedia:\n",
    "\n",
    "> In the newer, narrower sense, collaborative filtering is a method of making automatic predictions (filtering) about the interests of a user by collecting preferences or taste information from many users (collaborating). The underlying assumption of the collaborative filtering approach is that if a person A has the same opinion as a person B on an issue, A is more likely to have B's opinion on a different issue than that of a randomly chosen person. "
   ]
  },
  {
   "cell_type": "markdown",
   "metadata": {},
   "source": [
    "### Rating matrix"
   ]
  },
  {
   "cell_type": "markdown",
   "metadata": {},
   "source": [
    "The user ratings can be collected in a rating matrix"
   ]
  },
  {
   "cell_type": "markdown",
   "metadata": {},
   "source": [
    "$$R_{um}$$"
   ]
  },
  {
   "cell_type": "markdown",
   "metadata": {},
   "source": [
    "each row of this matrix corresponds to one user and each column to one item (movie in this example). \n",
    " An entry $R_{um}$ gives the rating of user $u$ for item $m$. This matrix has size $N_u\\times N_m$ where $N_u$ is the number of users and $N_m$ is the numbers of items. This can be a very large number. However ss each of the users has usually rated a (very) small sample of items this matrix is sparse! In case of e.g. Netflix it has only about $1\\%$ of filled entries.  "
   ]
  },
  {
   "cell_type": "markdown",
   "metadata": {},
   "source": [
    "The aim of the recommender system is to predict the remaining $99\\%$ of entries :) "
   ]
  },
  {
   "cell_type": "markdown",
   "metadata": {},
   "source": [
    "### Matrix Factorisation"
   ]
  },
  {
   "cell_type": "markdown",
   "metadata": {},
   "source": [
    "One approach to this problem is to reduce the  rank of the rating matrix by representing it as a product of two matrices:"
   ]
  },
  {
   "cell_type": "markdown",
   "metadata": {},
   "source": [
    "$$\\hat{R}_{um} = U_{uk} M_{mk},\\quad \\hat{R}=U\\cdot M^T$$"
   ]
  },
  {
   "cell_type": "markdown",
   "metadata": {},
   "source": [
    "In this formulation each entry of the rating matrix $\\hat R$ is a dot product of a row of users matrix $U$ and a row of movies matrix $M$. We can view each row of movie matrix as a set of _features_ and each row of the users matrix as _preferences_ for each of the features."
   ]
  },
  {
   "cell_type": "markdown",
   "metadata": {},
   "source": [
    "The number of features $K$ is a hyperparameter that we have to choose somehow. "
   ]
  },
  {
   "cell_type": "markdown",
   "metadata": {},
   "source": [
    "Reconstructing the rating matrix $\\hat R$ amounts to estimating the matrices $U$ and $M$. This is alltogether  $N_u\\times K + N_u\\times K$ parameters. Depending on $K$ this is usually much smaller number then the number of all entries in $\\hat R$.  "
   ]
  },
  {
   "cell_type": "markdown",
   "metadata": {},
   "source": [
    "Estimation of $U$ and $M$ is done byminimazing the mean squared error:"
   ]
  },
  {
   "cell_type": "markdown",
   "metadata": {},
   "source": [
    "$$J=\\frac{1}{2}\\sum_{<u,m>}\\left(R_{um}-\\hat{R}_{um}\\right)^2$$"
   ]
  },
  {
   "cell_type": "markdown",
   "metadata": {},
   "source": [
    "The sum is over a set of all non empty entries of matrix $R$ and we denote this by symbol $\\langle u,m\\rangle$."
   ]
  },
  {
   "cell_type": "markdown",
   "metadata": {},
   "source": [
    "Differentiating with respect to an element of the matrix $U$ we obtain:"
   ]
  },
  {
   "cell_type": "markdown",
   "metadata": {},
   "source": [
    "$$\\frac{\\partial }{\\partial {U_{uk}}} J = \\sum_{<u,m>} \\left(R_{um} - U_{uk'} M_{mk'}\\right) M_{mk}$$"
   ]
  },
  {
   "cell_type": "markdown",
   "metadata": {},
   "source": [
    "In the above formula idices $u$ and $k$ are fixed and the sum runs over all the movies $m$ rated by the user $u$. \n"
   ]
  },
  {
   "cell_type": "markdown",
   "metadata": {},
   "source": [
    "Equating this derivative to zero gives as an equation"
   ]
  },
  {
   "cell_type": "markdown",
   "metadata": {},
   "source": [
    "$$\\sum_{<u,m>} M_{mk}  M_{mk'} U_{uk'} = \\sum_{<u,m>}  R_{um} M_{mk}$$"
   ]
  },
  {
   "cell_type": "markdown",
   "metadata": {},
   "source": [
    "which can be rewritten in vector form:"
   ]
  },
  {
   "cell_type": "markdown",
   "metadata": {},
   "source": [
    "$$ \\left(\\sum_{<u,m>}\\vec{M}_{m}  \\vec{M}_{m}^T\\right) \\vec{U}_{u} = \\sum_{<u,m>}  R_{um} \\vec{M}_{m}$$"
   ]
  },
  {
   "cell_type": "markdown",
   "metadata": {},
   "source": [
    "here $\\vec{U}_u$ is the $u$-th row of the matrix $U$ and similarly for $\\vec{M}_m$. The summation is again over all movies $m$ rated by user $u$. "
   ]
  },
  {
   "cell_type": "markdown",
   "metadata": {},
   "source": [
    "In the same way we can derive another set of equation for the rows of the matrix $M$:"
   ]
  },
  {
   "cell_type": "markdown",
   "metadata": {},
   "source": [
    "$$ \\left(\\sum_{<u,m>}\\vec{U}_{u}  \\vec{U}_{u}^T\\right) \\vec{M}_{m} = \\sum_{<u,m>}  R_{um} \\vec{U}_{u}$$"
   ]
  },
  {
   "cell_type": "markdown",
   "metadata": {},
   "source": [
    "Minimazing the  $J$  requires solving both of those sets of equations simultaneuosly. This cannot be done in general and requires numerical methods. One of the is the iterative merthods of alterneting least squares."
   ]
  },
  {
   "cell_type": "markdown",
   "metadata": {},
   "source": [
    "### Alternating least squares"
   ]
  },
  {
   "cell_type": "markdown",
   "metadata": {},
   "source": [
    "I if we consider $M$ fixed the equiations for the rows of $U$ are ordinary linear equations. Based on this observation the method consists of filling $M$ with same random starting values and the solving for $U$"
   ]
  },
  {
   "cell_type": "markdown",
   "metadata": {},
   "source": [
    "$$  \\vec{U}_{u} = \\left(\\sum_{<u,m>}\\vec{M}_{m}  \\vec{M}_{m}^T\\right)^{-1}\\sum_{<u,m>}  R_{um} \\vec{M}_{m}$$"
   ]
  },
  {
   "cell_type": "markdown",
   "metadata": {},
   "source": [
    "Then keeping $U$ fixed we solve for $M$"
   ]
  },
  {
   "cell_type": "markdown",
   "metadata": {},
   "source": [
    "$$ \\vec{M}_{m} =\\left(\\sum_{<u,m>}\\vec{U}_{u}  \\vec{U}_{u}^T\\right)  \\sum_{<u,m>}  R_{um} \\vec{U}_{u}$$"
   ]
  },
  {
   "cell_type": "markdown",
   "metadata": {},
   "source": [
    "and the whole process is reapeted until convergence. "
   ]
  },
  {
   "cell_type": "markdown",
   "metadata": {},
   "source": [
    "## Data "
   ]
  },
  {
   "cell_type": "code",
   "execution_count": 1,
   "metadata": {},
   "outputs": [],
   "source": [
    "import numpy as np\n",
    "import scipy as sp\n",
    "import pandas as pd\n",
    "from scipy.sparse import csr_matrix"
   ]
  },
  {
   "cell_type": "markdown",
   "metadata": {},
   "source": [
    "We will use the data from the Movielens. Please download and unpack the  ```ml-latest-small.zip``` from their [website](https://grouplens.org/datasets/movielens/latest/)."
   ]
  },
  {
   "cell_type": "code",
   "execution_count": 2,
   "metadata": {},
   "outputs": [],
   "source": [
    "data = pd.read_csv('ml-latest-small/ratings.csv')"
   ]
  },
  {
   "cell_type": "code",
   "execution_count": 3,
   "metadata": {},
   "outputs": [
    {
     "data": {
      "text/html": [
       "<div>\n",
       "<style scoped>\n",
       "    .dataframe tbody tr th:only-of-type {\n",
       "        vertical-align: middle;\n",
       "    }\n",
       "\n",
       "    .dataframe tbody tr th {\n",
       "        vertical-align: top;\n",
       "    }\n",
       "\n",
       "    .dataframe thead th {\n",
       "        text-align: right;\n",
       "    }\n",
       "</style>\n",
       "<table border=\"1\" class=\"dataframe\">\n",
       "  <thead>\n",
       "    <tr style=\"text-align: right;\">\n",
       "      <th></th>\n",
       "      <th>userId</th>\n",
       "      <th>movieId</th>\n",
       "      <th>rating</th>\n",
       "      <th>timestamp</th>\n",
       "    </tr>\n",
       "  </thead>\n",
       "  <tbody>\n",
       "    <tr>\n",
       "      <th>0</th>\n",
       "      <td>1</td>\n",
       "      <td>1</td>\n",
       "      <td>4.0</td>\n",
       "      <td>964982703</td>\n",
       "    </tr>\n",
       "    <tr>\n",
       "      <th>1</th>\n",
       "      <td>1</td>\n",
       "      <td>3</td>\n",
       "      <td>4.0</td>\n",
       "      <td>964981247</td>\n",
       "    </tr>\n",
       "    <tr>\n",
       "      <th>2</th>\n",
       "      <td>1</td>\n",
       "      <td>6</td>\n",
       "      <td>4.0</td>\n",
       "      <td>964982224</td>\n",
       "    </tr>\n",
       "    <tr>\n",
       "      <th>3</th>\n",
       "      <td>1</td>\n",
       "      <td>47</td>\n",
       "      <td>5.0</td>\n",
       "      <td>964983815</td>\n",
       "    </tr>\n",
       "    <tr>\n",
       "      <th>4</th>\n",
       "      <td>1</td>\n",
       "      <td>50</td>\n",
       "      <td>5.0</td>\n",
       "      <td>964982931</td>\n",
       "    </tr>\n",
       "  </tbody>\n",
       "</table>\n",
       "</div>"
      ],
      "text/plain": [
       "   userId  movieId  rating  timestamp\n",
       "0       1        1     4.0  964982703\n",
       "1       1        3     4.0  964981247\n",
       "2       1        6     4.0  964982224\n",
       "3       1       47     5.0  964983815\n",
       "4       1       50     5.0  964982931"
      ]
     },
     "execution_count": 3,
     "metadata": {},
     "output_type": "execute_result"
    }
   ],
   "source": [
    "data.head()"
   ]
  },
  {
   "cell_type": "code",
   "execution_count": 4,
   "metadata": {},
   "outputs": [],
   "source": [
    "data.drop('timestamp', axis=1, inplace=True)"
   ]
  },
  {
   "cell_type": "code",
   "execution_count": 5,
   "metadata": {},
   "outputs": [
    {
     "data": {
      "text/plain": [
       "(100836, 3)"
      ]
     },
     "execution_count": 5,
     "metadata": {},
     "output_type": "execute_result"
    }
   ],
   "source": [
    "n_ratings = len(data)\n",
    "data.shape"
   ]
  },
  {
   "cell_type": "markdown",
   "metadata": {},
   "source": [
    "To find the number of users and movies in the data set we can use function ```nunique```:"
   ]
  },
  {
   "cell_type": "code",
   "execution_count": 6,
   "metadata": {},
   "outputs": [
    {
     "name": "stdout",
     "output_type": "stream",
     "text": [
      "610 9724\n"
     ]
    }
   ],
   "source": [
    "n_users  = data['userId'].nunique()\n",
    "n_movies = data['movieId'].nunique()\n",
    "print(n_users, n_movies)"
   ]
  },
  {
   "cell_type": "markdown",
   "metadata": {},
   "source": [
    "### Problem 1"
   ]
  },
  {
   "cell_type": "markdown",
   "metadata": {},
   "source": [
    "Find the size of the rating matrix, assuming $K=64$ calculate number of parameters we have to fit. "
   ]
  },
  {
   "cell_type": "code",
   "execution_count": 7,
   "metadata": {},
   "outputs": [
    {
     "name": "stdout",
     "output_type": "stream",
     "text": [
      "661376\n"
     ]
    }
   ],
   "source": [
    "n_of_parameters = (n_users + n_movies) * 64\n",
    "print(n_of_parameters)"
   ]
  },
  {
   "cell_type": "code",
   "execution_count": 8,
   "metadata": {},
   "outputs": [],
   "source": [
    "sparse_rating_matrix = csr_matrix((data.rating.values, (data.userId.values, data.movieId.values)))"
   ]
  },
  {
   "cell_type": "code",
   "execution_count": 9,
   "metadata": {},
   "outputs": [
    {
     "data": {
      "text/plain": [
       "array([[0. , 0. , 0. , ..., 0. , 0. , 0. ],\n",
       "       [0. , 4. , 0. , ..., 0. , 0. , 0. ],\n",
       "       [0. , 0. , 0. , ..., 0. , 0. , 0. ],\n",
       "       ...,\n",
       "       [0. , 2.5, 2. , ..., 0. , 0. , 0. ],\n",
       "       [0. , 3. , 0. , ..., 0. , 0. , 0. ],\n",
       "       [0. , 5. , 0. , ..., 0. , 0. , 0. ]])"
      ]
     },
     "execution_count": 9,
     "metadata": {},
     "output_type": "execute_result"
    }
   ],
   "source": [
    "sparse_rating_matrix.toarray()"
   ]
  },
  {
   "cell_type": "markdown",
   "metadata": {},
   "source": [
    "Compare number of non empty entries in the rating matrix to number of parameters."
   ]
  },
  {
   "cell_type": "code",
   "execution_count": 10,
   "metadata": {},
   "outputs": [
    {
     "name": "stdout",
     "output_type": "stream",
     "text": [
      "NON EMPTY ENTRIES: 100836\n",
      "num of parameters: 661376\n"
     ]
    }
   ],
   "source": [
    "print(\"NON EMPTY ENTRIES: \" + str(data.shape[0]))\n",
    "print(\"num of parameters: \" + str(n_of_parameters))"
   ]
  },
  {
   "cell_type": "markdown",
   "metadata": {},
   "source": [
    "Compare number of paremeters to the size of available data. "
   ]
  },
  {
   "cell_type": "code",
   "execution_count": 11,
   "metadata": {
    "scrolled": true
   },
   "outputs": [
    {
     "name": "stdout",
     "output_type": "stream",
     "text": [
      "Available data: 118295710\n",
      "num of parameters: 661376\n"
     ]
    }
   ],
   "source": [
    "ratings_shape = sparse_rating_matrix.shape\n",
    "print(\"Available data: \" + str(ratings_shape[0] * ratings_shape[1]))\n",
    "print(\"num of parameters: \" + str(n_of_parameters))"
   ]
  },
  {
   "cell_type": "code",
   "execution_count": 12,
   "metadata": {},
   "outputs": [
    {
     "name": "stdout",
     "output_type": "stream",
     "text": [
      "Number of movies that didnt appear in the dataset: 183886\n"
     ]
    }
   ],
   "source": [
    "print('Number of movies that didnt appear in the dataset: ' + str(len(np.where(~sparse_rating_matrix.toarray().any(axis=0))[0]))) "
   ]
  },
  {
   "cell_type": "markdown",
   "metadata": {},
   "source": [
    "#### Regularisation"
   ]
  },
  {
   "cell_type": "markdown",
   "metadata": {},
   "source": [
    "Those calculations show that we still have more parameters to fit then the data. This can (and will) lead to serious overfitting. One way to mitigate that is to use regularisation of the parameters by constraining their size. "
   ]
  },
  {
   "cell_type": "markdown",
   "metadata": {},
   "source": [
    "This amounts to adding another term to the cost function $J$:"
   ]
  },
  {
   "cell_type": "markdown",
   "metadata": {},
   "source": [
    "$$\n",
    "J=\\frac{1}{2}\\sum_{<u,m>}\\left(R_{um}-\\hat{R}_{um}\\right)^2+\n",
    "\\frac{\\lambda}{2}\\left(\n",
    "||U||^2 +||M||^2\n",
    "\\right)\n",
    "$$"
   ]
  },
  {
   "cell_type": "markdown",
   "metadata": {},
   "source": [
    "where the norm of the matrix $||U||^2$ denotes the sum of all the squares of the matrix  entries"
   ]
  },
  {
   "cell_type": "markdown",
   "metadata": {},
   "source": [
    "$$||U||^2=\\sum_{u,k}U_{ik}^2$$"
   ]
  },
  {
   "cell_type": "markdown",
   "metadata": {},
   "source": [
    "The $\\lambda$ is another hyperparameter to be estimated.  "
   ]
  },
  {
   "cell_type": "markdown",
   "metadata": {},
   "source": [
    "After taking the gradient we obtain new sets of equations"
   ]
  },
  {
   "cell_type": "markdown",
   "metadata": {},
   "source": [
    "$$ \\vec{U}_{u} = \\left(\\sum_{<u,m>}\\vec{M}_{m}  \n",
    "\\vec{M}_{m}^T+\\lambda I\\right)^{-1}\n",
    "\\sum_{<u,m>} R_{um}\\vec{M}_{m}$$"
   ]
  },
  {
   "cell_type": "markdown",
   "metadata": {},
   "source": [
    "$$ \\vec{M}_{m} =\\left(\\sum_{<u,m>}\\vec{U}_{u}  \\vec{U}_{u}^T+\\lambda I\\right)  \\sum_{<u,m>}  R_{um} \\vec{U}_{u}$$"
   ]
  },
  {
   "cell_type": "markdown",
   "metadata": {},
   "source": [
    "that we solve in the same iterative way. "
   ]
  },
  {
   "cell_type": "markdown",
   "metadata": {},
   "source": [
    "Before proceeding to implementation we need to split our data into train, test and validation sets. "
   ]
  },
  {
   "cell_type": "code",
   "execution_count": 13,
   "metadata": {},
   "outputs": [],
   "source": [
    "train = data.sample(frac=0.8, replace=False)"
   ]
  },
  {
   "cell_type": "code",
   "execution_count": 14,
   "metadata": {},
   "outputs": [
    {
     "data": {
      "text/html": [
       "<div>\n",
       "<style scoped>\n",
       "    .dataframe tbody tr th:only-of-type {\n",
       "        vertical-align: middle;\n",
       "    }\n",
       "\n",
       "    .dataframe tbody tr th {\n",
       "        vertical-align: top;\n",
       "    }\n",
       "\n",
       "    .dataframe thead th {\n",
       "        text-align: right;\n",
       "    }\n",
       "</style>\n",
       "<table border=\"1\" class=\"dataframe\">\n",
       "  <thead>\n",
       "    <tr style=\"text-align: right;\">\n",
       "      <th></th>\n",
       "      <th>userId</th>\n",
       "      <th>movieId</th>\n",
       "      <th>rating</th>\n",
       "    </tr>\n",
       "  </thead>\n",
       "  <tbody>\n",
       "    <tr>\n",
       "      <th>6268</th>\n",
       "      <td>42</td>\n",
       "      <td>4018</td>\n",
       "      <td>4.0</td>\n",
       "    </tr>\n",
       "    <tr>\n",
       "      <th>73588</th>\n",
       "      <td>474</td>\n",
       "      <td>1777</td>\n",
       "      <td>4.5</td>\n",
       "    </tr>\n",
       "    <tr>\n",
       "      <th>97545</th>\n",
       "      <td>606</td>\n",
       "      <td>1172</td>\n",
       "      <td>4.0</td>\n",
       "    </tr>\n",
       "    <tr>\n",
       "      <th>97908</th>\n",
       "      <td>606</td>\n",
       "      <td>3569</td>\n",
       "      <td>3.5</td>\n",
       "    </tr>\n",
       "    <tr>\n",
       "      <th>11496</th>\n",
       "      <td>68</td>\n",
       "      <td>72641</td>\n",
       "      <td>4.5</td>\n",
       "    </tr>\n",
       "  </tbody>\n",
       "</table>\n",
       "</div>"
      ],
      "text/plain": [
       "       userId  movieId  rating\n",
       "6268       42     4018     4.0\n",
       "73588     474     1777     4.5\n",
       "97545     606     1172     4.0\n",
       "97908     606     3569     3.5\n",
       "11496      68    72641     4.5"
      ]
     },
     "execution_count": 14,
     "metadata": {},
     "output_type": "execute_result"
    }
   ],
   "source": [
    "train.head()"
   ]
  },
  {
   "cell_type": "code",
   "execution_count": 15,
   "metadata": {},
   "outputs": [],
   "source": [
    "test = data.drop(train.index)"
   ]
  },
  {
   "cell_type": "code",
   "execution_count": 16,
   "metadata": {},
   "outputs": [],
   "source": [
    "validation = test.sample(frac=0.5, replace=False)"
   ]
  },
  {
   "cell_type": "code",
   "execution_count": 17,
   "metadata": {},
   "outputs": [
    {
     "data": {
      "text/html": [
       "<div>\n",
       "<style scoped>\n",
       "    .dataframe tbody tr th:only-of-type {\n",
       "        vertical-align: middle;\n",
       "    }\n",
       "\n",
       "    .dataframe tbody tr th {\n",
       "        vertical-align: top;\n",
       "    }\n",
       "\n",
       "    .dataframe thead th {\n",
       "        text-align: right;\n",
       "    }\n",
       "</style>\n",
       "<table border=\"1\" class=\"dataframe\">\n",
       "  <thead>\n",
       "    <tr style=\"text-align: right;\">\n",
       "      <th></th>\n",
       "      <th>userId</th>\n",
       "      <th>movieId</th>\n",
       "      <th>rating</th>\n",
       "    </tr>\n",
       "  </thead>\n",
       "  <tbody>\n",
       "    <tr>\n",
       "      <th>26985</th>\n",
       "      <td>182</td>\n",
       "      <td>6373</td>\n",
       "      <td>2.0</td>\n",
       "    </tr>\n",
       "    <tr>\n",
       "      <th>69465</th>\n",
       "      <td>448</td>\n",
       "      <td>5507</td>\n",
       "      <td>1.0</td>\n",
       "    </tr>\n",
       "    <tr>\n",
       "      <th>76942</th>\n",
       "      <td>480</td>\n",
       "      <td>33679</td>\n",
       "      <td>2.5</td>\n",
       "    </tr>\n",
       "    <tr>\n",
       "      <th>79488</th>\n",
       "      <td>494</td>\n",
       "      <td>1198</td>\n",
       "      <td>5.0</td>\n",
       "    </tr>\n",
       "    <tr>\n",
       "      <th>17388</th>\n",
       "      <td>111</td>\n",
       "      <td>4054</td>\n",
       "      <td>2.5</td>\n",
       "    </tr>\n",
       "  </tbody>\n",
       "</table>\n",
       "</div>"
      ],
      "text/plain": [
       "       userId  movieId  rating\n",
       "26985     182     6373     2.0\n",
       "69465     448     5507     1.0\n",
       "76942     480    33679     2.5\n",
       "79488     494     1198     5.0\n",
       "17388     111     4054     2.5"
      ]
     },
     "execution_count": 17,
     "metadata": {},
     "output_type": "execute_result"
    }
   ],
   "source": [
    "validation.head()"
   ]
  },
  {
   "cell_type": "code",
   "execution_count": 18,
   "metadata": {},
   "outputs": [],
   "source": [
    "test = test.drop(validation.index)"
   ]
  },
  {
   "cell_type": "code",
   "execution_count": 19,
   "metadata": {},
   "outputs": [
    {
     "data": {
      "text/html": [
       "<div>\n",
       "<style scoped>\n",
       "    .dataframe tbody tr th:only-of-type {\n",
       "        vertical-align: middle;\n",
       "    }\n",
       "\n",
       "    .dataframe tbody tr th {\n",
       "        vertical-align: top;\n",
       "    }\n",
       "\n",
       "    .dataframe thead th {\n",
       "        text-align: right;\n",
       "    }\n",
       "</style>\n",
       "<table border=\"1\" class=\"dataframe\">\n",
       "  <thead>\n",
       "    <tr style=\"text-align: right;\">\n",
       "      <th></th>\n",
       "      <th>userId</th>\n",
       "      <th>movieId</th>\n",
       "      <th>rating</th>\n",
       "    </tr>\n",
       "  </thead>\n",
       "  <tbody>\n",
       "    <tr>\n",
       "      <th>9</th>\n",
       "      <td>1</td>\n",
       "      <td>157</td>\n",
       "      <td>5.0</td>\n",
       "    </tr>\n",
       "    <tr>\n",
       "      <th>18</th>\n",
       "      <td>1</td>\n",
       "      <td>333</td>\n",
       "      <td>5.0</td>\n",
       "    </tr>\n",
       "    <tr>\n",
       "      <th>29</th>\n",
       "      <td>1</td>\n",
       "      <td>543</td>\n",
       "      <td>4.0</td>\n",
       "    </tr>\n",
       "    <tr>\n",
       "      <th>47</th>\n",
       "      <td>1</td>\n",
       "      <td>943</td>\n",
       "      <td>4.0</td>\n",
       "    </tr>\n",
       "    <tr>\n",
       "      <th>51</th>\n",
       "      <td>1</td>\n",
       "      <td>1024</td>\n",
       "      <td>5.0</td>\n",
       "    </tr>\n",
       "  </tbody>\n",
       "</table>\n",
       "</div>"
      ],
      "text/plain": [
       "    userId  movieId  rating\n",
       "9        1      157     5.0\n",
       "18       1      333     5.0\n",
       "29       1      543     4.0\n",
       "47       1      943     4.0\n",
       "51       1     1024     5.0"
      ]
     },
     "execution_count": 19,
     "metadata": {},
     "output_type": "execute_result"
    }
   ],
   "source": [
    "test.head()"
   ]
  },
  {
   "cell_type": "code",
   "execution_count": 20,
   "metadata": {},
   "outputs": [],
   "source": [
    "n_train_users  = train.userId.nunique()\n",
    "n_train_movies = train.movieId.nunique()"
   ]
  },
  {
   "cell_type": "code",
   "execution_count": 21,
   "metadata": {},
   "outputs": [
    {
     "name": "stdout",
     "output_type": "stream",
     "text": [
      "610 8967\n"
     ]
    }
   ],
   "source": [
    "print(n_train_users, n_train_movies)"
   ]
  },
  {
   "cell_type": "code",
   "execution_count": 22,
   "metadata": {},
   "outputs": [],
   "source": [
    "n_test_users  = test.userId.nunique()\n",
    "n_test_movies = test.movieId.nunique()"
   ]
  },
  {
   "cell_type": "code",
   "execution_count": 23,
   "metadata": {},
   "outputs": [
    {
     "name": "stdout",
     "output_type": "stream",
     "text": [
      "602 3646\n"
     ]
    }
   ],
   "source": [
    "print(n_test_users, n_test_movies)"
   ]
  },
  {
   "cell_type": "code",
   "execution_count": 24,
   "metadata": {},
   "outputs": [],
   "source": [
    "n_validation_users=validation.userId.nunique()\n",
    "n_validation_movies = validation.movieId.nunique()"
   ]
  },
  {
   "cell_type": "code",
   "execution_count": 25,
   "metadata": {},
   "outputs": [
    {
     "name": "stdout",
     "output_type": "stream",
     "text": [
      "595 3652\n"
     ]
    }
   ],
   "source": [
    "print(n_validation_users, n_validation_movies)"
   ]
  },
  {
   "cell_type": "markdown",
   "metadata": {},
   "source": [
    "When implementing the ALS algorithm we will need to traverse the ratings users by user and for each user iterate over all movies that she has rated. To this end we will define an auxiliary data structur"
   ]
  },
  {
   "cell_type": "code",
   "execution_count": 26,
   "metadata": {},
   "outputs": [],
   "source": [
    "by_user = train.groupby('userId').apply(lambda g: list(zip(g.movieId, g.rating)))"
   ]
  },
  {
   "cell_type": "markdown",
   "metadata": {},
   "source": [
    "This is a ```pandas.Series``` indexed by the  ```userId``` that contains lists of pairs ```(movieId, rating)``` for each movie rated by this partuclar user."
   ]
  },
  {
   "cell_type": "markdown",
   "metadata": {},
   "source": [
    "Similarly we will need to traverse list of all movies and for each movie traverse list of users that have rated it, so we create another auxiliary structure. "
   ]
  },
  {
   "cell_type": "code",
   "execution_count": 27,
   "metadata": {},
   "outputs": [],
   "source": [
    "by_movie = train.groupby('movieId').apply(lambda g: list(zip(g.userId, g.rating)))"
   ]
  },
  {
   "cell_type": "markdown",
   "metadata": {},
   "source": [
    "One last point to remember is that we cannot(!) use the ```userId``` to index  rows of matrix $U$! This is because the userId are not garantied to be consecutive, especially after spliting the data into three different sets. The correct way of finding the index into the U matrix for given userId is to find it's location in the series:"
   ]
  },
  {
   "cell_type": "markdown",
   "metadata": {},
   "source": [
    "```ui = by_user.index.get_loc(uid)```"
   ]
  },
  {
   "cell_type": "markdown",
   "metadata": {},
   "source": [
    "Same applies to movies indexes"
   ]
  },
  {
   "cell_type": "markdown",
   "metadata": {},
   "source": [
    "```mi = by_movie.index.get_loc(mid)```"
   ]
  },
  {
   "cell_type": "code",
   "execution_count": 28,
   "metadata": {},
   "outputs": [
    {
     "data": {
      "text/html": [
       "<div>\n",
       "<style scoped>\n",
       "    .dataframe tbody tr th:only-of-type {\n",
       "        vertical-align: middle;\n",
       "    }\n",
       "\n",
       "    .dataframe tbody tr th {\n",
       "        vertical-align: top;\n",
       "    }\n",
       "\n",
       "    .dataframe thead th {\n",
       "        text-align: right;\n",
       "    }\n",
       "</style>\n",
       "<table border=\"1\" class=\"dataframe\">\n",
       "  <thead>\n",
       "    <tr style=\"text-align: right;\">\n",
       "      <th></th>\n",
       "      <th>userId</th>\n",
       "      <th>movieId</th>\n",
       "      <th>rating</th>\n",
       "    </tr>\n",
       "  </thead>\n",
       "  <tbody>\n",
       "    <tr>\n",
       "      <th>9</th>\n",
       "      <td>1</td>\n",
       "      <td>157</td>\n",
       "      <td>5.0</td>\n",
       "    </tr>\n",
       "    <tr>\n",
       "      <th>18</th>\n",
       "      <td>1</td>\n",
       "      <td>333</td>\n",
       "      <td>5.0</td>\n",
       "    </tr>\n",
       "    <tr>\n",
       "      <th>29</th>\n",
       "      <td>1</td>\n",
       "      <td>543</td>\n",
       "      <td>4.0</td>\n",
       "    </tr>\n",
       "    <tr>\n",
       "      <th>47</th>\n",
       "      <td>1</td>\n",
       "      <td>943</td>\n",
       "      <td>4.0</td>\n",
       "    </tr>\n",
       "    <tr>\n",
       "      <th>51</th>\n",
       "      <td>1</td>\n",
       "      <td>1024</td>\n",
       "      <td>5.0</td>\n",
       "    </tr>\n",
       "  </tbody>\n",
       "</table>\n",
       "</div>"
      ],
      "text/plain": [
       "    userId  movieId  rating\n",
       "9        1      157     5.0\n",
       "18       1      333     5.0\n",
       "29       1      543     4.0\n",
       "47       1      943     4.0\n",
       "51       1     1024     5.0"
      ]
     },
     "execution_count": 28,
     "metadata": {},
     "output_type": "execute_result"
    }
   ],
   "source": [
    "test.head()"
   ]
  },
  {
   "cell_type": "markdown",
   "metadata": {},
   "source": [
    "### Problem 2 "
   ]
  },
  {
   "cell_type": "markdown",
   "metadata": {},
   "source": [
    "2.1 Implement the ALS algorithm in python. "
   ]
  },
  {
   "cell_type": "code",
   "execution_count": 156,
   "metadata": {},
   "outputs": [],
   "source": [
    "class AlternatingLeastSquares:\n",
    "    def __init__(\n",
    "        self,\n",
    "        n_features: int = 64,\n",
    "        n_iter: int = 30,\n",
    "        λ: float = 4.44,\n",
    "        𝜀: float = 0.1\n",
    "    ):\n",
    "        self.n_features = n_features\n",
    "        self.n_iter = n_iter\n",
    "        self.λ = λ\n",
    "        self.𝜀 = 𝜀\n",
    "        self.features_eye = np.eye(n_features)\n",
    "\n",
    "    def mean_absolute_error(self, y_pred, y_true):\n",
    "        nonZero = y_true != 0\n",
    "        return np.mean(abs(y_pred[nonZero] - y_true[nonZero]))\n",
    "    \n",
    "    def mean_squared_error(self, y_pred, y_true):\n",
    "        nonZero = y_true != 0\n",
    "        return np.mean(np.square(y_pred[nonZero] - y_true[nonZero]))\n",
    "\n",
    "    def normaliseRow(self, x):\n",
    "        return x / sum(x)\n",
    "\n",
    "    def generate_matrix(self, shape):\n",
    "        matrix = abs(np.random.rand(shape[0], shape[1]))\n",
    "        return np.apply_along_axis(self.normaliseRow, 1, matrix)\n",
    "    \n",
    "    def fit(self, X):\n",
    "        self.U = self.generate_matrix((X.shape[0], self.n_features))\n",
    "        self.M = self.generate_matrix((X.shape[1], self.n_features))\n",
    "        nonZero = X > 0\n",
    "        \n",
    "        for i in range(self.n_iter):\n",
    "            print('Iteration', i + 1, 'of', self.n_iter)\n",
    "            for i in range(X.shape[0]):\n",
    "                idx = nonZero[i,:]\n",
    "                self.U[i] = self._factorise(X[i,idx], self.M[idx,], self.λ, self.features_eye)\n",
    "\n",
    "            for i in range(X.shape[1]):\n",
    "                idx = nonZero[:,i]\n",
    "                self.M[i] = self._factorise(X[idx,i], self.U[idx,], self.λ, self.features_eye)\n",
    "        \n",
    "            mse = self.mean_squared_error(self.predict(), X)\n",
    "            print('Mean Squared Error:', mse)\n",
    "            if mse < self.𝜀:\n",
    "                print('Fitting finished, epsilon =', self.𝜀,'bound reached with MSE =', mse)\n",
    "                return\n",
    "            \n",
    "    def predict(self):\n",
    "        return self._predict(self.U, self.M)\n",
    "    \n",
    "    def _predict(self, U, M):\n",
    "        return U.dot(M.T)\n",
    "            \n",
    "    def _factorise(self, r, X, λ, eye):\n",
    "        a = np.dot(X.T, X) + (λ * eye)\n",
    "        b = np.dot(r.T, X)\n",
    "        return np.linalg.solve(a, b)"
   ]
  },
  {
   "cell_type": "markdown",
   "metadata": {},
   "source": [
    "2.2 Check its predictions on the train, test and validation set. "
   ]
  },
  {
   "cell_type": "code",
   "execution_count": 47,
   "metadata": {},
   "outputs": [],
   "source": [
    "model = AlternatingLeastSquares()\n",
    "\n",
    "mae = model.mean_absolute_error\n",
    "mse = model.mean_squared_error"
   ]
  },
  {
   "cell_type": "code",
   "execution_count": 31,
   "metadata": {
    "scrolled": true
   },
   "outputs": [
    {
     "name": "stdout",
     "output_type": "stream",
     "text": [
      "(610, 8939)\n"
     ]
    },
    {
     "data": {
      "text/plain": [
       "array([[ 4. ,  0. ,  4. , ...,  0. ,  0. ,  0. ],\n",
       "       [ 0. ,  0. ,  0. , ...,  0. ,  0. ,  0. ],\n",
       "       [ 0. ,  0. ,  0. , ...,  0. ,  0. ,  0. ],\n",
       "       ..., \n",
       "       [ 2.5,  2. ,  2. , ...,  0. ,  0. ,  0. ],\n",
       "       [ 3. ,  0. ,  0. , ...,  0. ,  0. ,  0. ],\n",
       "       [ 5. ,  0. ,  0. , ...,  0. ,  0. ,  0. ]])"
      ]
     },
     "execution_count": 31,
     "metadata": {},
     "output_type": "execute_result"
    }
   ],
   "source": [
    "ratings_train = train.pivot_table(columns=['movieId'], index=['userId'], values='rating', dropna=False)\n",
    "ratings_train = ratings_train.fillna(0).values\n",
    "print(ratings_train.shape)\n",
    "ratings_train"
   ]
  },
  {
   "cell_type": "code",
   "execution_count": 32,
   "metadata": {
    "scrolled": true
   },
   "outputs": [
    {
     "name": "stdout",
     "output_type": "stream",
     "text": [
      "Iteration 1 of 30\n",
      "Mean Squared Error: 2.33150221665\n",
      "Iteration 2 of 30\n",
      "Mean Squared Error: 0.161975072226\n",
      "Iteration 3 of 30\n",
      "Mean Squared Error: 0.121959164792\n",
      "Iteration 4 of 30\n",
      "Mean Squared Error: 0.112802210327\n",
      "Iteration 5 of 30\n",
      "Mean Squared Error: 0.108988804768\n",
      "Iteration 6 of 30\n",
      "Mean Squared Error: 0.106862948836\n",
      "Iteration 7 of 30\n",
      "Mean Squared Error: 0.105487005159\n",
      "Iteration 8 of 30\n",
      "Mean Squared Error: 0.104523235091\n",
      "Iteration 9 of 30\n",
      "Mean Squared Error: 0.103815216799\n",
      "Iteration 10 of 30\n",
      "Mean Squared Error: 0.103276579449\n",
      "Iteration 11 of 30\n",
      "Mean Squared Error: 0.102854621869\n",
      "Iteration 12 of 30\n",
      "Mean Squared Error: 0.10251498397\n",
      "Iteration 13 of 30\n",
      "Mean Squared Error: 0.102234471126\n",
      "Iteration 14 of 30\n",
      "Mean Squared Error: 0.101997378534\n",
      "Iteration 15 of 30\n",
      "Mean Squared Error: 0.101793164395\n",
      "Iteration 16 of 30\n",
      "Mean Squared Error: 0.101614731456\n",
      "Iteration 17 of 30\n",
      "Mean Squared Error: 0.101457168006\n",
      "Iteration 18 of 30\n",
      "Mean Squared Error: 0.101316902639\n",
      "Iteration 19 of 30\n",
      "Mean Squared Error: 0.101191191943\n",
      "Iteration 20 of 30\n",
      "Mean Squared Error: 0.101077836723\n",
      "Iteration 21 of 30\n",
      "Mean Squared Error: 0.100975032375\n",
      "Iteration 22 of 30\n",
      "Mean Squared Error: 0.100881286404\n",
      "Iteration 23 of 30\n",
      "Mean Squared Error: 0.100795364347\n",
      "Iteration 24 of 30\n",
      "Mean Squared Error: 0.100716246239\n",
      "Iteration 25 of 30\n",
      "Mean Squared Error: 0.100643087924\n",
      "Iteration 26 of 30\n",
      "Mean Squared Error: 0.100575186862\n",
      "Iteration 27 of 30\n",
      "Mean Squared Error: 0.100511953396\n",
      "Iteration 28 of 30\n",
      "Mean Squared Error: 0.100452887923\n",
      "Iteration 29 of 30\n",
      "Mean Squared Error: 0.10039756352\n",
      "Iteration 30 of 30\n",
      "Mean Squared Error: 0.100345612976\n"
     ]
    }
   ],
   "source": [
    "model.fit(ratings_train)"
   ]
  },
  {
   "cell_type": "code",
   "execution_count": 33,
   "metadata": {
    "scrolled": false
   },
   "outputs": [
    {
     "name": "stdout",
     "output_type": "stream",
     "text": [
      "(610, 8939)\n"
     ]
    },
    {
     "data": {
      "text/plain": [
       "array([[ 3.92216972,  3.29647753,  3.9223446 , ...,  1.61267886,\n",
       "         1.61267886,  2.3919555 ],\n",
       "       [ 3.79872412,  3.1964166 ,  3.02416462, ...,  1.26072015,\n",
       "         1.26072015,  1.61126753],\n",
       "       [ 1.88499399,  2.03764836,  1.24621029, ...,  0.94225207,\n",
       "         0.94225207,  0.98876234],\n",
       "       ..., \n",
       "       [ 2.58985167,  2.1367159 ,  2.14880352, ...,  1.74056803,\n",
       "         1.74056803,  2.05995896],\n",
       "       [ 3.16743808,  2.91079989,  2.58092212, ...,  0.88677819,\n",
       "         0.88677819,  1.24715716],\n",
       "       [ 5.07054208,  3.64392468,  5.11079251, ...,  2.58975748,\n",
       "         2.58975748,  2.49875894]])"
      ]
     },
     "execution_count": 33,
     "metadata": {},
     "output_type": "execute_result"
    }
   ],
   "source": [
    "predictions = model.predict()\n",
    "print(predictions.shape)\n",
    "predictions"
   ]
  },
  {
   "cell_type": "markdown",
   "metadata": {},
   "source": [
    "One problem  is that the validation and test sets may contain users and/or movies that are not present in the training set. In this case the prediction is impossible. We can check this at the level of caclulating the prediction score or clean up those sets beforehand.  We will clean up the sets using an inner join on two dataframes.  "
   ]
  },
  {
   "cell_type": "markdown",
   "metadata": {},
   "source": [
    "First we prepare two dataframes that contain only index which constists of unique users(movies) Id from the training sets. "
   ]
  },
  {
   "cell_type": "code",
   "execution_count": 34,
   "metadata": {},
   "outputs": [],
   "source": [
    "by_user_idx = pd.DataFrame(index = by_user.index)\n",
    "by_movie_idx = pd.DataFrame(index = by_movie.index)"
   ]
  },
  {
   "cell_type": "code",
   "execution_count": 35,
   "metadata": {},
   "outputs": [
    {
     "data": {
      "text/plain": [
       "10083"
      ]
     },
     "execution_count": 35,
     "metadata": {},
     "output_type": "execute_result"
    }
   ],
   "source": [
    "len(test)"
   ]
  },
  {
   "cell_type": "markdown",
   "metadata": {},
   "source": [
    "We now use this frames in join. Inner join keeps only the rows with keys apearing in both dataframes. "
   ]
  },
  {
   "cell_type": "code",
   "execution_count": 36,
   "metadata": {},
   "outputs": [],
   "source": [
    "test = test.join(by_user_idx, on='userId', how='inner')\n",
    "test = test.join(by_movie_idx, on='movieId', how='inner')"
   ]
  },
  {
   "cell_type": "code",
   "execution_count": 37,
   "metadata": {},
   "outputs": [
    {
     "data": {
      "text/html": [
       "<div>\n",
       "<style scoped>\n",
       "    .dataframe tbody tr th:only-of-type {\n",
       "        vertical-align: middle;\n",
       "    }\n",
       "\n",
       "    .dataframe tbody tr th {\n",
       "        vertical-align: top;\n",
       "    }\n",
       "\n",
       "    .dataframe thead th {\n",
       "        text-align: right;\n",
       "    }\n",
       "</style>\n",
       "<table border=\"1\" class=\"dataframe\">\n",
       "  <thead>\n",
       "    <tr style=\"text-align: right;\">\n",
       "      <th></th>\n",
       "      <th>userId</th>\n",
       "      <th>movieId</th>\n",
       "      <th>rating</th>\n",
       "    </tr>\n",
       "  </thead>\n",
       "  <tbody>\n",
       "    <tr>\n",
       "      <th>17</th>\n",
       "      <td>1</td>\n",
       "      <td>316</td>\n",
       "      <td>3.0</td>\n",
       "    </tr>\n",
       "    <tr>\n",
       "      <th>3908</th>\n",
       "      <td>24</td>\n",
       "      <td>316</td>\n",
       "      <td>3.5</td>\n",
       "    </tr>\n",
       "    <tr>\n",
       "      <th>5615</th>\n",
       "      <td>40</td>\n",
       "      <td>316</td>\n",
       "      <td>3.0</td>\n",
       "    </tr>\n",
       "    <tr>\n",
       "      <th>14175</th>\n",
       "      <td>91</td>\n",
       "      <td>316</td>\n",
       "      <td>4.0</td>\n",
       "    </tr>\n",
       "    <tr>\n",
       "      <th>41772</th>\n",
       "      <td>284</td>\n",
       "      <td>316</td>\n",
       "      <td>4.0</td>\n",
       "    </tr>\n",
       "  </tbody>\n",
       "</table>\n",
       "</div>"
      ],
      "text/plain": [
       "       userId  movieId  rating\n",
       "17          1      316     3.0\n",
       "3908       24      316     3.5\n",
       "5615       40      316     3.0\n",
       "14175      91      316     4.0\n",
       "41772     284      316     4.0"
      ]
     },
     "execution_count": 37,
     "metadata": {},
     "output_type": "execute_result"
    }
   ],
   "source": [
    "test.head()"
   ]
  },
  {
   "cell_type": "code",
   "execution_count": 38,
   "metadata": {},
   "outputs": [],
   "source": [
    "validation = validation.join(by_user_idx, on='userId', how='inner')\n",
    "validation = validation.join(by_movie_idx, on='movieId', how='inner')"
   ]
  },
  {
   "cell_type": "code",
   "execution_count": 39,
   "metadata": {
    "scrolled": false
   },
   "outputs": [
    {
     "data": {
      "text/html": [
       "<div>\n",
       "<style scoped>\n",
       "    .dataframe tbody tr th:only-of-type {\n",
       "        vertical-align: middle;\n",
       "    }\n",
       "\n",
       "    .dataframe tbody tr th {\n",
       "        vertical-align: top;\n",
       "    }\n",
       "\n",
       "    .dataframe thead th {\n",
       "        text-align: right;\n",
       "    }\n",
       "</style>\n",
       "<table border=\"1\" class=\"dataframe\">\n",
       "  <thead>\n",
       "    <tr style=\"text-align: right;\">\n",
       "      <th></th>\n",
       "      <th>userId</th>\n",
       "      <th>movieId</th>\n",
       "      <th>rating</th>\n",
       "    </tr>\n",
       "  </thead>\n",
       "  <tbody>\n",
       "    <tr>\n",
       "      <th>95404</th>\n",
       "      <td>600</td>\n",
       "      <td>2081</td>\n",
       "      <td>4.0</td>\n",
       "    </tr>\n",
       "    <tr>\n",
       "      <th>49132</th>\n",
       "      <td>318</td>\n",
       "      <td>2081</td>\n",
       "      <td>3.0</td>\n",
       "    </tr>\n",
       "    <tr>\n",
       "      <th>6675</th>\n",
       "      <td>45</td>\n",
       "      <td>2081</td>\n",
       "      <td>5.0</td>\n",
       "    </tr>\n",
       "    <tr>\n",
       "      <th>57152</th>\n",
       "      <td>380</td>\n",
       "      <td>2081</td>\n",
       "      <td>4.0</td>\n",
       "    </tr>\n",
       "    <tr>\n",
       "      <th>31686</th>\n",
       "      <td>219</td>\n",
       "      <td>2081</td>\n",
       "      <td>3.0</td>\n",
       "    </tr>\n",
       "  </tbody>\n",
       "</table>\n",
       "</div>"
      ],
      "text/plain": [
       "       userId  movieId  rating\n",
       "95404     600     2081     4.0\n",
       "49132     318     2081     3.0\n",
       "6675       45     2081     5.0\n",
       "57152     380     2081     4.0\n",
       "31686     219     2081     3.0"
      ]
     },
     "execution_count": 39,
     "metadata": {},
     "output_type": "execute_result"
    }
   ],
   "source": [
    "validation.head()"
   ]
  },
  {
   "cell_type": "code",
   "execution_count": 40,
   "metadata": {},
   "outputs": [],
   "source": [
    "def locate(a, b):\n",
    "    ids_set = set(a)\n",
    "    idx = []\n",
    "    for i, entry in enumerate(b):\n",
    "        if entry in ids_set:\n",
    "            idx.append(i)\n",
    "            ids_set.remove(entry)\n",
    "    return (np.array(idx), np.array(list(ids_set)))"
   ]
  },
  {
   "cell_type": "code",
   "execution_count": 41,
   "metadata": {},
   "outputs": [
    {
     "name": "stdout",
     "output_type": "stream",
     "text": [
      "users found: 596\n",
      "users not found: 0\n",
      "movies found: 3286\n",
      "movies not found: 0\n"
     ]
    }
   ],
   "source": [
    "test_users_idx, test_users_idx_notfound = locate(test.userId.unique(), train.userId.unique())\n",
    "test_movies_idx, test_movies_idx_notfound = locate(test.movieId.unique(), train.movieId.unique())\n",
    "\n",
    "print('users found:', len(test_users_idx))\n",
    "print('users not found:', len(test_users_idx_notfound))\n",
    "print('movies found:', len(test_movies_idx))\n",
    "print('movies not found:', len(test_movies_idx_notfound))"
   ]
  },
  {
   "cell_type": "code",
   "execution_count": 42,
   "metadata": {},
   "outputs": [
    {
     "name": "stdout",
     "output_type": "stream",
     "text": [
      "(596, 3286)\n"
     ]
    },
    {
     "data": {
      "text/plain": [
       "array([[ 3.92216972,  3.29647753,  3.9223446 , ...,  1.17553849,\n",
       "         0.94728329,  1.46214781],\n",
       "       [ 3.79872412,  3.1964166 ,  3.02416462, ...,  0.7220557 ,\n",
       "         0.48262781,  1.14710354],\n",
       "       [ 1.88499399,  2.03764836,  1.24621029, ...,  0.60196544,\n",
       "         0.3665341 ,  0.43201557],\n",
       "       ..., \n",
       "       [ 2.58985167,  2.1367159 ,  2.14880352, ...,  1.41877319,\n",
       "         0.81400686,  1.25945483],\n",
       "       [ 3.16743808,  2.91079989,  2.58092212, ...,  0.48376213,\n",
       "         0.3330671 ,  0.92868206],\n",
       "       [ 5.07054208,  3.64392468,  5.11079251, ...,  2.12376305,\n",
       "         1.84470522,  1.29207233]])"
      ]
     },
     "execution_count": 42,
     "metadata": {},
     "output_type": "execute_result"
    }
   ],
   "source": [
    "predictions_test = predictions[test_users_idx]\n",
    "predictions_test = predictions_test[:,test_movies_idx]\n",
    "print(predictions_test.shape)\n",
    "predictions_test"
   ]
  },
  {
   "cell_type": "code",
   "execution_count": 43,
   "metadata": {},
   "outputs": [
    {
     "name": "stdout",
     "output_type": "stream",
     "text": [
      "(596, 3286)\n"
     ]
    },
    {
     "data": {
      "text/plain": [
       "array([[ 0.,  0.,  0., ...,  0.,  0.,  0.],\n",
       "       [ 0.,  0.,  0., ...,  0.,  0.,  0.],\n",
       "       [ 0.,  0.,  0., ...,  0.,  0.,  0.],\n",
       "       ..., \n",
       "       [ 0.,  0.,  0., ...,  0.,  0.,  0.],\n",
       "       [ 0.,  0.,  0., ...,  0.,  0.,  0.],\n",
       "       [ 0.,  0.,  0., ...,  0.,  0.,  0.]])"
      ]
     },
     "execution_count": 43,
     "metadata": {},
     "output_type": "execute_result"
    }
   ],
   "source": [
    "ratings_test = test.pivot_table(columns=['movieId'], index=['userId'], values='rating', dropna=False)\n",
    "ratings_test = ratings_test.fillna(0).values\n",
    "print(ratings_test.shape)\n",
    "ratings_test"
   ]
  },
  {
   "cell_type": "code",
   "execution_count": 44,
   "metadata": {},
   "outputs": [
    {
     "name": "stdout",
     "output_type": "stream",
     "text": [
      "users found: 604\n",
      "users not found: 0\n",
      "movies found: 3254\n",
      "movies not found: 0\n"
     ]
    }
   ],
   "source": [
    "validation_users_idx, validation_users_idx_notfound = locate(validation.userId.unique(), train.userId.unique())\n",
    "validation_movies_idx, validation_movies_idx_notfound = locate(validation.movieId.unique(), train.movieId.unique())\n",
    "\n",
    "print('users found:', len(validation_users_idx))\n",
    "print('users not found:', len(validation_users_idx_notfound))\n",
    "print('movies found:', len(validation_movies_idx))\n",
    "print('movies not found:', len(validation_movies_idx_notfound))"
   ]
  },
  {
   "cell_type": "code",
   "execution_count": 45,
   "metadata": {},
   "outputs": [
    {
     "name": "stdout",
     "output_type": "stream",
     "text": [
      "(604, 3254)\n"
     ]
    },
    {
     "data": {
      "text/plain": [
       "array([[ 3.92216972,  3.29647753,  3.9223446 , ...,  0.54299925,\n",
       "         1.03435142,  1.15035616],\n",
       "       [ 3.79872412,  3.1964166 ,  3.02416462, ...,  0.3581282 ,\n",
       "         0.76077139,  0.8236973 ],\n",
       "       [ 1.88499399,  2.03764836,  1.24621029, ...,  0.36509465,\n",
       "         0.54416901,  0.52409704],\n",
       "       ..., \n",
       "       [ 2.58985167,  2.1367159 ,  2.14880352, ...,  0.5636208 ,\n",
       "         1.16815333,  0.83081188],\n",
       "       [ 3.16743808,  2.91079989,  2.58092212, ...,  0.24224505,\n",
       "         0.56304109,  0.49075274],\n",
       "       [ 5.07054208,  3.64392468,  5.11079251, ...,  1.52123848,\n",
       "         1.26927771,  1.87968247]])"
      ]
     },
     "execution_count": 45,
     "metadata": {},
     "output_type": "execute_result"
    }
   ],
   "source": [
    "predictions_validation = predictions[validation_users_idx]\n",
    "predictions_validation = predictions_validation[:,validation_movies_idx]\n",
    "print(predictions_validation.shape)\n",
    "predictions_validation"
   ]
  },
  {
   "cell_type": "code",
   "execution_count": 46,
   "metadata": {},
   "outputs": [
    {
     "name": "stdout",
     "output_type": "stream",
     "text": [
      "(604, 3254)\n"
     ]
    },
    {
     "data": {
      "text/plain": [
       "array([[ 0.,  0.,  0., ...,  0.,  0.,  0.],\n",
       "       [ 0.,  0.,  0., ...,  0.,  0.,  0.],\n",
       "       [ 0.,  0.,  0., ...,  0.,  0.,  0.],\n",
       "       ..., \n",
       "       [ 0.,  0.,  0., ...,  0.,  0.,  0.],\n",
       "       [ 0.,  0.,  0., ...,  0.,  0.,  0.],\n",
       "       [ 0.,  0.,  0., ...,  0.,  0.,  0.]])"
      ]
     },
     "execution_count": 46,
     "metadata": {},
     "output_type": "execute_result"
    }
   ],
   "source": [
    "ratings_validation = validation.pivot_table(columns=['movieId'], index=['userId'], values='rating', dropna=False)\n",
    "ratings_validation = ratings_validation.fillna(0).values\n",
    "print(ratings_validation.shape)\n",
    "ratings_validation"
   ]
  },
  {
   "cell_type": "code",
   "execution_count": 47,
   "metadata": {
    "scrolled": true
   },
   "outputs": [
    {
     "name": "stdout",
     "output_type": "stream",
     "text": [
      "-----------------------\n",
      "Model parameters:\n",
      "    K - 64\n",
      "    λ - 4.44\n",
      "    max_i - 30\n",
      "-----------------------\n",
      "[Training set] MSE: 0.100345612976\n",
      "[Training set] MAE: 0.22042818263\n",
      "[Test set] MSE: 4.78289479915\n",
      "[Test set] MAE: 1.84838821859\n",
      "[Validation set] MSE: 4.25433221786\n",
      "[Validation set] MAE: 1.72141525047\n"
     ]
    }
   ],
   "source": [
    "print('-----------------------')\n",
    "print('Model parameters:')\n",
    "print('    K -', model.n_features)\n",
    "print('    λ -', model.λ)\n",
    "print('    max_i -', model.n_iter)\n",
    "print('-----------------------')\n",
    "print('[Training set] MSE:', mse(predictions, ratings_train))\n",
    "print('[Training set] MAE:', mae(predictions, ratings_train))\n",
    "print('[Test set] MSE:', mse(predictions_test, ratings_test))\n",
    "print('[Test set] MAE:', mae(predictions_test, ratings_test))\n",
    "print('[Validation set] MSE:', mse(predictions_validation, ratings_validation))\n",
    "print('[Validation set] MAE:', mae(predictions_validation, ratings_validation))"
   ]
  },
  {
   "cell_type": "markdown",
   "metadata": {},
   "source": [
    "2.3 Does the result depend on number of features (K)? How?\n",
    "\n",
    "Large K definitely hits the performance (time complexity) "
   ]
  },
  {
   "cell_type": "markdown",
   "metadata": {},
   "source": [
    "2.4 Does the result depend on $\\lambda$? How?\n",
    "\n",
    "With lower $\\lambda$ model tends to overfit the predictions"
   ]
  },
  {
   "cell_type": "markdown",
   "metadata": {},
   "source": [
    "### Biases"
   ]
  },
  {
   "cell_type": "markdown",
   "metadata": {},
   "source": [
    "We can extend our model by adding additional \"biases\" and mean:"
   ]
  },
  {
   "cell_type": "markdown",
   "metadata": {},
   "source": [
    "$$\\hat{R}_{um} = U_{uk} M_{mk} + b_u +c_m +\\mu$$"
   ]
  },
  {
   "cell_type": "markdown",
   "metadata": {},
   "source": [
    "where $\\mu$ is just overall mean (on training set):"
   ]
  },
  {
   "cell_type": "markdown",
   "metadata": {},
   "source": [
    "$$\\mu = \\frac{1}{\\sum_{<u,m> } 1}\\sum_{<u,m>}R_{um}$$"
   ]
  },
  {
   "cell_type": "markdown",
   "metadata": {},
   "source": [
    "We can calculate gradient with respwect to biases"
   ]
  },
  {
   "cell_type": "markdown",
   "metadata": {},
   "source": [
    "$$\\frac{\\partial }{\\partial {b_{u}}} J = \\sum_{<u,m>} \\left(R_{um} - U_{uk'} M_{mk'}- b_u -c_m -\\mu\\right) \\cdot 1 $$"
   ]
  },
  {
   "cell_type": "markdown",
   "metadata": {},
   "source": [
    "$$\\sum_{<u,m>} \\left(R_{um} - U_{uk'} M_{mk'}- b_u -c_m -\\mu\\right)  $$"
   ]
  },
  {
   "cell_type": "markdown",
   "metadata": {},
   "source": [
    "$$\\sum_{<u,m>}  b_u =\\sum_{<u,m>} \\left(R_{um} - U_{uk'} M_{mk'} -c_m -\\mu\\right)  $$"
   ]
  },
  {
   "cell_type": "markdown",
   "metadata": {},
   "source": [
    "and obtain te final equations:"
   ]
  },
  {
   "cell_type": "markdown",
   "metadata": {},
   "source": [
    "$$ \\vec{U}_{u} = \\left(\\sum_{<u,m>}\\vec{M}_{m}  \n",
    "\\vec{M}_{m}^T+\\lambda I\\right)^{-1}\n",
    "\\sum_{<u,m>} \\left( R_{um} - b_u -c_m -\\mu\\right)\\vec{M}_{m}$$"
   ]
  },
  {
   "cell_type": "markdown",
   "metadata": {},
   "source": [
    "$$ \\vec{M}_{m} =\\left(\\sum_{<u,m>}\\vec{U}_{u}  \\vec{U}_{u}^T+\\lambda I\\right)  \\sum_{<u,m>} \\left( R_{um} - b_u -c_m -\\mu\\right) \\vec{U}_{u}$$"
   ]
  },
  {
   "cell_type": "markdown",
   "metadata": {},
   "source": [
    "$$ b_u =\\frac{1}{\\lambda+\\sum_{<u,m>} 1}\\sum_{<u,m>} \\left(R_{um} - U_{uk'} M_{mk'} -c_m -\\mu\\right)  $$"
   ]
  },
  {
   "cell_type": "markdown",
   "metadata": {},
   "source": [
    "$$ c_m =\\frac{1}{\\lambda+\\sum_{<u,m>} 1}\\sum_{<u,m>} \\left(R_{um} - U_{uk'} M_{mk'} -b_u -\\mu\\right)  $$"
   ]
  },
  {
   "cell_type": "markdown",
   "metadata": {},
   "source": [
    "We solve this equations in the same way, we start from random values and  solve each equation by keeping all other varaibles fix. "
   ]
  },
  {
   "cell_type": "markdown",
   "metadata": {},
   "source": [
    "### Problem 3"
   ]
  },
  {
   "cell_type": "markdown",
   "metadata": {},
   "source": [
    "3.1 Implement this version of the ALS algorithm and compare it's performance with the previous one."
   ]
  },
  {
   "cell_type": "code",
   "execution_count": 76,
   "metadata": {},
   "outputs": [],
   "source": [
    "class ALSB:\n",
    "    def __init__(\n",
    "        self,\n",
    "        n_features: int = 64,\n",
    "        n_iter: int = 3,\n",
    "        λ: float = 4.44,\n",
    "        𝜀: float = 0.1\n",
    "    ):\n",
    "        self.n_features = n_features\n",
    "        self.n_iter = n_iter\n",
    "        self.λ = λ\n",
    "        self.𝜀 = 𝜀\n",
    "        self.features_eye = np.eye(n_features)\n",
    "\n",
    "    def mean_absolute_error(self, y_pred, y_true):\n",
    "        nonZero = y_true != 0\n",
    "        return np.mean(abs(y_pred[nonZero] - y_true[nonZero]))\n",
    "    \n",
    "    def mean_squared_error(self, y_pred, y_true):\n",
    "        nonZero = y_true != 0\n",
    "        return np.mean(np.square(y_pred[nonZero] - y_true[nonZero]))\n",
    "\n",
    "    def normaliseRow(self, x):\n",
    "        return x / sum(x)\n",
    "\n",
    "    def generate_matrix(self, shape):\n",
    "        matrix = abs(np.random.rand(shape[0], shape[1]))\n",
    "        return np.apply_along_axis(self.normaliseRow, 1, matrix)\n",
    "    \n",
    "    def fit(self, X, mu):\n",
    "        self.U = self.generate_matrix((X.shape[0], self.n_features))\n",
    "        self.M = self.generate_matrix((X.shape[1], self.n_features))\n",
    "        self.Ub = np.zeros(X.shape[0])\n",
    "        self.Mb = np.zeros(X.shape[1])\n",
    "        nonZero = X > 0\n",
    "        \n",
    "        for i in range(self.n_iter):\n",
    "            print('Iteration', i + 1, 'of', self.n_iter)\n",
    "            #Update biases\n",
    "            #Ub\n",
    "            for i, u in enumerate(train.userId.unique()):\n",
    "                accum = 0\n",
    "                for j, m in enumerate(train.movieId.unique()):\n",
    "                    accum += X[i,j] - np.dot( self.U[i], self.M[j] ) - self.Mb[j] - mu.values[0]\n",
    "                self.Ub[i] = accum/(train.movieId.nunique() + self.λ)\n",
    "            #Mb\n",
    "            for j, m in enumerate(train.movieId.unique()):\n",
    "                accum = 0\n",
    "                for i, u in enumerate(train.userId.unique()):\n",
    "                    accum += X[i,j] - np.dot( self.U[i], self.M[j] ) - self.Ub[i] - mu.values[0]\n",
    "                self.Mb[j] = accum/(train.userId.nunique() + self.λ)\n",
    "\n",
    "            for i in range(X.shape[0]):\n",
    "                idx = nonZero[i,:]\n",
    "                self.U[i] = self._factorise(X[i,idx], self.M[idx,], self.λ, self.features_eye,\n",
    "                                            self.Ub[i], self.Mb[idx,], mu.values[0])\n",
    "\n",
    "            for i in range(X.shape[1]):\n",
    "                idx = nonZero[:,i]\n",
    "                self.M[i] = self._factorise(X[idx,i], self.U[idx,], self.λ, self.features_eye,\n",
    "                                            self.Ub[idx,], self.Mb[i], mu.values[0])\n",
    "        \n",
    "            mse = self.mean_squared_error(self.predict(mu.values[0]), X)\n",
    "            print('Mean Squared Error:', mse)\n",
    "            if mse < self.𝜀:\n",
    "                print('Fitting finished, epsilon =', self.𝜀,'bound reached with MSE =', mse)\n",
    "                return\n",
    "           \n",
    "    def predict(self, mu):\n",
    "        return self._predict(self.U, self.M, self.Ub, self.Mb, mu)\n",
    "    \n",
    "    def _predict(self, U, M, Ub, Mb, mu):       \n",
    "        UM = U.dot(M.T)\n",
    "        UM_Mb = np.ndarray(shape=(UM.shape[0],UM.shape[1]))\n",
    "        for i in range(UM.shape[0]):\n",
    "            UM_Mb[i] = UM[i] + Mb\n",
    "            \n",
    "        UM_Mb_Ub = np.ndarray(shape=(UM.shape[0],UM.shape[1]))\n",
    "        for j in range(UM.shape[1]):\n",
    "            UM_Mb_Ub[:,j] = UM_Mb[:,j] + Ub\n",
    "\n",
    "        R = UM_Mb_Ub + mu\n",
    "        return R  \n",
    "\n",
    "    def _factorise(self, r, X, λ, eye, Ub, Mb, mu):\n",
    "        a = np.dot(X.T, X) + (λ * eye)\n",
    "        b = np.dot((r-Ub.T-Mb-mu), X)\n",
    "        return np.linalg.solve(a, b)"
   ]
  },
  {
   "cell_type": "code",
   "execution_count": 77,
   "metadata": {},
   "outputs": [],
   "source": [
    "model = ALSB()\n",
    "#mae = model.mean_absolute_error\n",
    "#mse = model.mean_squared_error"
   ]
  },
  {
   "cell_type": "code",
   "execution_count": 78,
   "metadata": {},
   "outputs": [],
   "source": [
    "mu = np.mean( train[['rating']] )\n",
    "\n",
    "ratings_train = train.pivot_table(columns=['movieId'], index=['userId'], values='rating', dropna=False)\n",
    "ratings_train = ratings_train.fillna(0).values"
   ]
  },
  {
   "cell_type": "code",
   "execution_count": 79,
   "metadata": {},
   "outputs": [
    {
     "name": "stdout",
     "output_type": "stream",
     "text": [
      "Iteration 1 of 3\n",
      "Mean Squared Error: 2.087030647688067\n",
      "Iteration 2 of 3\n",
      "Mean Squared Error: 0.1513463352173053\n",
      "Iteration 3 of 3\n",
      "Mean Squared Error: 0.10029300049523986\n"
     ]
    }
   ],
   "source": [
    "model.fit(ratings_train, mu)"
   ]
  },
  {
   "cell_type": "code",
   "execution_count": 80,
   "metadata": {},
   "outputs": [
    {
     "name": "stdout",
     "output_type": "stream",
     "text": [
      "[  8270   7307   5649 139857   2878   8835 106062   4801  52279 144620] <- max indexes\n",
      "[ 31420 137218 111551  93006  40597   1933   2023   8718 131439  27619] <- min indexes\n",
      "\n",
      "max biases -> [1.67697891 1.67697902 1.67697896 1.67697924 1.67698368 1.67698441\n",
      " 1.67698711 1.67698331 1.67698074 1.67698267]\n",
      "min biases -> [-10.08305053 -10.18506218  -9.17547715  -7.79045768  -7.85186263\n",
      "  -8.59579553  -8.421693    -8.5509447   -7.78575057  -7.77772653]\n"
     ]
    }
   ],
   "source": [
    "max_ind = np.argpartition(model.Mb, -10)[-10:]\n",
    "min_ind = np.argpartition(model.Mb, 10)[:10]\n",
    "max_movie_biases = train.movieId.unique()[max_ind]\n",
    "min_movie_biases = train.movieId.unique()[min_ind]\n",
    "print( max_movie_biases, \"<- max indexes\" )\n",
    "print( min_movie_biases, \"<- min indexes\" )\n",
    "print()\n",
    "print(\"max biases ->\", model.Mb[max_ind])\n",
    "print(\"min biases ->\", model.Mb[min_ind])"
   ]
  },
  {
   "cell_type": "markdown",
   "metadata": {},
   "source": [
    "3.2 Using the ```movies.csv``` set associate the movies with biases. Print top ten movies with highest bias, and top ten with lowest (negative). "
   ]
  },
  {
   "cell_type": "code",
   "execution_count": 81,
   "metadata": {},
   "outputs": [],
   "source": [
    "movies = pd.read_csv('ml-latest-small/movies.csv')"
   ]
  },
  {
   "cell_type": "code",
   "execution_count": 82,
   "metadata": {},
   "outputs": [
    {
     "data": {
      "text/html": [
       "<div>\n",
       "<style scoped>\n",
       "    .dataframe tbody tr th:only-of-type {\n",
       "        vertical-align: middle;\n",
       "    }\n",
       "\n",
       "    .dataframe tbody tr th {\n",
       "        vertical-align: top;\n",
       "    }\n",
       "\n",
       "    .dataframe thead th {\n",
       "        text-align: right;\n",
       "    }\n",
       "</style>\n",
       "<table border=\"1\" class=\"dataframe\">\n",
       "  <thead>\n",
       "    <tr style=\"text-align: right;\">\n",
       "      <th></th>\n",
       "      <th>movieId</th>\n",
       "      <th>title</th>\n",
       "      <th>genres</th>\n",
       "    </tr>\n",
       "  </thead>\n",
       "  <tbody>\n",
       "    <tr>\n",
       "      <th>0</th>\n",
       "      <td>1</td>\n",
       "      <td>Toy Story (1995)</td>\n",
       "      <td>Adventure|Animation|Children|Comedy|Fantasy</td>\n",
       "    </tr>\n",
       "    <tr>\n",
       "      <th>1</th>\n",
       "      <td>2</td>\n",
       "      <td>Jumanji (1995)</td>\n",
       "      <td>Adventure|Children|Fantasy</td>\n",
       "    </tr>\n",
       "    <tr>\n",
       "      <th>2</th>\n",
       "      <td>3</td>\n",
       "      <td>Grumpier Old Men (1995)</td>\n",
       "      <td>Comedy|Romance</td>\n",
       "    </tr>\n",
       "    <tr>\n",
       "      <th>3</th>\n",
       "      <td>4</td>\n",
       "      <td>Waiting to Exhale (1995)</td>\n",
       "      <td>Comedy|Drama|Romance</td>\n",
       "    </tr>\n",
       "    <tr>\n",
       "      <th>4</th>\n",
       "      <td>5</td>\n",
       "      <td>Father of the Bride Part II (1995)</td>\n",
       "      <td>Comedy</td>\n",
       "    </tr>\n",
       "  </tbody>\n",
       "</table>\n",
       "</div>"
      ],
      "text/plain": [
       "   movieId                               title  \\\n",
       "0        1                    Toy Story (1995)   \n",
       "1        2                      Jumanji (1995)   \n",
       "2        3             Grumpier Old Men (1995)   \n",
       "3        4            Waiting to Exhale (1995)   \n",
       "4        5  Father of the Bride Part II (1995)   \n",
       "\n",
       "                                        genres  \n",
       "0  Adventure|Animation|Children|Comedy|Fantasy  \n",
       "1                   Adventure|Children|Fantasy  \n",
       "2                               Comedy|Romance  \n",
       "3                         Comedy|Drama|Romance  \n",
       "4                                       Comedy  "
      ]
     },
     "execution_count": 82,
     "metadata": {},
     "output_type": "execute_result"
    }
   ],
   "source": [
    "movies.head()"
   ]
  },
  {
   "cell_type": "code",
   "execution_count": 85,
   "metadata": {},
   "outputs": [
    {
     "name": "stdout",
     "output_type": "stream",
     "text": [
      "------------------------------WITH MAX BIASES-------------------------------\n",
      "      movieId                                              title  \\\n",
      "5147     8270  Hairdresser's Husband, The (Le mari de la coif...   \n",
      "\n",
      "                    genres  \n",
      "5147  Comedy|Drama|Romance  \n",
      "      movieId                 title                      genres\n",
      "4877     7307  Flesh & Blood (1985)  Action|Adventure|Drama|War\n",
      "      movieId                               title  genres\n",
      "4002     5649  Horror of Dracula (Dracula) (1958)  Horror\n",
      "      movieId           title    genres\n",
      "9000   139857  Colonia (2016)  Thriller\n",
      "      movieId              title  genres\n",
      "2162     2878  Hell Night (1981)  Horror\n",
      "      movieId             title          genres\n",
      "5321     8835  Paparazzi (2004)  Drama|Thriller\n",
      "      movieId                                 title  genres\n",
      "8288   106062  Jackass Presents: Bad Grandpa (2013)  Comedy\n",
      "      movieId                     title genres\n",
      "3513     4801  Little Foxes, The (1941)  Drama\n",
      "      movieId                    title  genres\n",
      "6452    52279  Are We Done Yet? (2007)  Comedy\n",
      "      movieId              title                   genres\n",
      "9107   144620  Goosebumps (2015)  Adventure|Comedy|Horror\n",
      "--------------------------------WITH MIN BIASES-------------------------------\n",
      "      movieId                          title                       genres\n",
      "5776    31420  Assault on Precinct 13 (2005)  Action|Crime|Drama|Thriller\n",
      "      movieId                 title genres\n",
      "8966   137218  April Morning (1988)  Drama\n",
      "      movieId             title                  genres\n",
      "8430   111551  Afflicted (2013)  Horror|Sci-Fi|Thriller\n",
      "      movieId                          title          genres\n",
      "7826    93006  Very Potter Musical, A (2009)  Comedy|Musical\n",
      "      movieId                                              title        genres\n",
      "6055    40597  One-Way Ticket to Mombasa (Menolippu Mombasaan...  Comedy|Drama\n",
      "      movieId                           title genres\n",
      "1412     1933  Life of Emile Zola, The (1937)  Drama\n",
      "      movieId                            title                        genres\n",
      "1498     2023  Godfather: Part III, The (1990)  Crime|Drama|Mystery|Thriller\n",
      "      movieId                  title genres\n",
      "5282     8718  Snake Pit, The (1948)  Drama\n",
      "      movieId                       title    genres\n",
      "8822   131439  Kill Me Three Times (2014)  Thriller\n",
      "      movieId                     title                               genres\n",
      "5666    27619  Lion King 1½, The (2004)  Adventure|Animation|Children|Comedy\n"
     ]
    }
   ],
   "source": [
    "print( \"------------------------------WITH MAX BIASES-------------------------------\" )\n",
    "for max in max_movie_biases:\n",
    "    print( movies.loc[movies['movieId'] == max] )\n",
    "print(\"--------------------------------WITH MIN BIASES-------------------------------\")\n",
    "for min in min_movie_biases:\n",
    "    print( movies.loc[movies['movieId'] == min] )\n"
   ]
  },
  {
   "cell_type": "code",
   "execution_count": null,
   "metadata": {},
   "outputs": [],
   "source": []
  }
 ],
 "metadata": {
  "kernelspec": {
   "display_name": "Python 3",
   "language": "python",
   "name": "python3"
  },
  "language_info": {
   "codemirror_mode": {
    "name": "ipython",
    "version": 3
   },
   "file_extension": ".py",
   "mimetype": "text/x-python",
   "name": "python",
   "nbconvert_exporter": "python",
   "pygments_lexer": "ipython3",
   "version": "3.7.0"
  }
 },
 "nbformat": 4,
 "nbformat_minor": 2
}
